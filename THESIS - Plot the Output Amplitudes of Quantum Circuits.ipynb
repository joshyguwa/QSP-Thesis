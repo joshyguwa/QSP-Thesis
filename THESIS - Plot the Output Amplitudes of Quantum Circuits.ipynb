{
 "cells": [
  {
   "cell_type": "markdown",
   "metadata": {},
   "source": [
    "Visualise the Output from Ran's MPS Circuit"
   ]
  },
  {
   "cell_type": "markdown",
   "metadata": {},
   "source": [
    "Use qsp_main6"
   ]
  },
  {
   "cell_type": "code",
   "execution_count": 3,
   "metadata": {},
   "outputs": [
    {
     "name": "stderr",
     "output_type": "stream",
     "text": [
      "c:\\Users\\0josh\\miniconda3\\envs\\qsp_main6\\lib\\site-packages\\cotengra\\hyperoptimizers\\hyper.py:33: UserWarning: Couldn't import `kahypar` - skipping from default hyper optimizer and using basic `labels` method instead.\n",
      "  warnings.warn(\n"
     ]
    }
   ],
   "source": [
    "from matplotlib import pyplot as plt\n",
    "import numpy as np\n",
    "import pickle as pkl\n",
    "\n",
    "import quimb.tensor as qtn\n",
    "\n",
    "from qsp.misc_states import make_aklt_mps\n",
    "from qsp.misc_states import make_aklt_peps\n",
    "from qsp.tsp import MPSPreparation, PEPSPreparation\n",
    "from qsp.tsp_helper_routines import make_splitted_mps"
   ]
  },
  {
   "cell_type": "code",
   "execution_count": 2,
   "metadata": {},
   "outputs": [],
   "source": [
    "f = lambda x: np.sqrt(x+1)\n",
    "\n",
    "n = 5\n",
    "\n",
    "state_vector = np.array([f(x) for x in range(2**n)], dtype=complex)\n",
    "\n",
    "target_mps = qtn.MatrixProductState.from_dense(state_vector,dims=[2]*n, )\n",
    "\n",
    "target_mps_prep = MPSPreparation(target_mps,shape='lrp')   "
   ]
  },
  {
   "cell_type": "code",
   "execution_count": 4,
   "metadata": {},
   "outputs": [],
   "source": [
    "reshaped_vector = target_mps.to_dense()"
   ]
  },
  {
   "cell_type": "markdown",
   "metadata": {},
   "source": [
    "Gaussian Encoding"
   ]
  },
  {
   "cell_type": "code",
   "execution_count": 42,
   "metadata": {},
   "outputs": [],
   "source": [
    "#f = lambda x: x\n",
    "\n",
    "f = lambda x, mu=0, sigma=0.1: (1 / (sigma * (2 * 3.1416)**0.5)) * np.exp(-0.5 * ((x - mu) / sigma)**2)\n",
    "\n",
    "n = 20\n",
    "\n",
    "#state_vector = np.array([f(x) for x in range(2**n)], dtype=complex)\n",
    "state_vector = np.array([f(2 * x / (2**n - 1) - 1) for x in range(2**n)], dtype=complex)\n",
    "\n",
    "target_mps = qtn.MatrixProductState.from_dense(state_vector,dims=[2]*n, )\n",
    "\n",
    "target_mps_prep = MPSPreparation(target_mps,shape='lrp')   "
   ]
  },
  {
   "cell_type": "code",
   "execution_count": 43,
   "metadata": {},
   "outputs": [
    {
     "name": "stdout",
     "output_type": "stream",
     "text": [
      "preparing mps using sequential unitaries (num_seq_layers=20)...\n"
     ]
    },
    {
     "name": "stderr",
     "output_type": "stream",
     "text": [
      "100%|██████████| 20/20 [00:01<00:00, 11.28it/s]\n"
     ]
    },
    {
     "name": "stdout",
     "output_type": "stream",
     "text": [
      "overlap from static seq. preparation = 0.9999953723822042,\n",
      "n_gates=1712, n_2qg=564\n",
      "\n"
     ]
    }
   ],
   "source": [
    "overlap, circ = target_mps_prep.sequential_unitary_circuit(num_seq_layers=20,max_bond_dim=2) #,do_compression=True, max_bond_dim=3)"
   ]
  },
  {
   "cell_type": "markdown",
   "metadata": {},
   "source": [
    "Reverse Output From Qiskit Circuit"
   ]
  },
  {
   "cell_type": "code",
   "execution_count": 1,
   "metadata": {},
   "outputs": [
    {
     "name": "stderr",
     "output_type": "stream",
     "text": [
      "C:\\Users\\0josh\\AppData\\Local\\Temp\\ipykernel_22768\\3192553712.py:1: FutureWarning: The `qiskit` package is not installed, only `qiskit-terra` is installed. Starting in Qiskit 1.0.0 only the `qiskit` package will be published. Migrate any requirements files still using `qiskit-terra` to use `qiskit` instead. See https://qisk.it/1-0-packaging-migration for more detail.\n",
      "  from qiskit import Aer, execute\n"
     ]
    }
   ],
   "source": [
    "from qiskit import Aer, execute\n",
    "\n",
    "def reverse_bitstring_association(values):\n",
    "    # Get the length of the list (n items require bitstrings of log2(n) bits)\n",
    "    n = len(values)\n",
    "    bit_length = len(bin(n - 1)) - 2  # Subtract 2 to remove the '0b' prefix from bin()\n",
    "\n",
    "    # Create a new list to store rearranged values\n",
    "    rearranged_values = [None] * n\n",
    "\n",
    "    # Iterate over all the indices and reverse the bitstrings\n",
    "    for i in range(n):\n",
    "        # Convert index to binary string and pad with leading zeros\n",
    "        bitstring = f\"{i:0{bit_length}b}\"\n",
    "        \n",
    "        # Reverse the bit string\n",
    "        reversed_bitstring = bitstring[::-1]\n",
    "        \n",
    "        # Convert the reversed bit string back to an integer index\n",
    "        reversed_index = int(reversed_bitstring, 2)\n",
    "        \n",
    "        # Place the value at the reversed index\n",
    "        rearranged_values[reversed_index] = values[i]\n",
    "\n",
    "    return np.array(rearranged_values)"
   ]
  },
  {
   "cell_type": "markdown",
   "metadata": {},
   "source": [
    "Plot Circuit Output"
   ]
  },
  {
   "cell_type": "code",
   "execution_count": 34,
   "metadata": {},
   "outputs": [],
   "source": [
    "def plot_output(circ,n,target_mps = None,title=\"\"):\n",
    "\n",
    "    plt.rcParams.update({\n",
    "    \"text.usetex\": True,\n",
    "    \"font.family\": \"serif\",\n",
    "    \"font.serif\": [\"Computer Modern\"],\n",
    "    \"axes.labelsize\": 24,\n",
    "    \"axes.titlesize\": 24,\n",
    "    \"xtick.labelsize\": 16,\n",
    "    \"ytick.labelsize\": 16,\n",
    "    })\n",
    "\n",
    "    final_state = execute(circ, Aer.get_backend('statevector_simulator')).result().get_statevector()\n",
    "\n",
    "    final_state = abs(np.array(final_state))\n",
    "\n",
    "    final_state = reverse_bitstring_association(final_state)\n",
    "\n",
    "    plt.scatter(range(2**n), final_state,marker='x',s=1,color='#089099')\n",
    "    if(target_mps is not None):\n",
    "        reshaped_vector = target_mps.to_dense()\n",
    "        plt.scatter(range(2**n), reshaped_vector, label = \"target\",marker='x',s=1,color='#2c7fb8')\n",
    "    plt.legend()\n",
    "    plt.xlabel('Basis Value')\n",
    "    plt.ylabel('Amplitude')\n",
    "    plt.title(rf'{title}')\n",
    "    plt.show()"
   ]
  },
  {
   "cell_type": "markdown",
   "metadata": {},
   "source": [
    "Generate Examples"
   ]
  },
  {
   "cell_type": "code",
   "execution_count": 7,
   "metadata": {},
   "outputs": [],
   "source": [
    "#f = lambda x: x\n",
    "\n",
    "f = lambda x, mu=0, sigma=0.3: (1 / (sigma * (2 * 3.1416)**0.5)) * np.exp(-0.5 * ((x - mu) / sigma)**2)\n",
    "\n",
    "n = 20\n",
    "\n",
    "#state_vector = np.array([f(x) for x in range(2**n)], dtype=complex)\n",
    "state_vector = np.array([f(2 * x / (2**n - 1) - 1) for x in range(2**n)], dtype=complex)\n",
    "\n",
    "target_mps = qtn.MatrixProductState.from_dense(state_vector,dims=[2]*n, )\n",
    "\n",
    "target_mps_prep = MPSPreparation(target_mps,shape='lrp')   "
   ]
  },
  {
   "cell_type": "code",
   "execution_count": 18,
   "metadata": {},
   "outputs": [
    {
     "name": "stdout",
     "output_type": "stream",
     "text": [
      "preparing mps using sequential unitaries (num_seq_layers=16)...\n"
     ]
    },
    {
     "name": "stderr",
     "output_type": "stream",
     "text": [
      "100%|██████████| 16/16 [00:01<00:00, 11.19it/s]\n"
     ]
    },
    {
     "name": "stdout",
     "output_type": "stream",
     "text": [
      "overlap from static seq. preparation = 0.9999998236543808 (from circ 0.9999998186849931),\n",
      "n_gates=1323, n_2qg=437\n",
      "\n"
     ]
    }
   ],
   "source": [
    "f = lambda x: np.sqrt(x+1)\n",
    "\n",
    "n = 20\n",
    "\n",
    "state_vector = np.array([f(x) for x in range(2**n)], dtype=complex)\n",
    "\n",
    "target_mps = qtn.MatrixProductState.from_dense(state_vector,dims=[2]*n, )\n",
    "\n",
    "target_mps_prep = MPSPreparation(target_mps,shape='lrp')   \n",
    "\n",
    "overlap_root, circ_root = target_mps_prep.sequential_unitary_circuit(num_seq_layers=16) #,do_compression=True, max_bond_dim=3)"
   ]
  },
  {
   "cell_type": "markdown",
   "metadata": {},
   "source": [
    "Plot Output"
   ]
  },
  {
   "cell_type": "code",
   "execution_count": 35,
   "metadata": {},
   "outputs": [
    {
     "name": "stderr",
     "output_type": "stream",
     "text": [
      "C:\\Users\\0josh\\AppData\\Local\\Temp\\ipykernel_22768\\338441124.py:23: UserWarning: No artists with labels found to put in legend.  Note that artists whose label start with an underscore are ignored when legend() is called with no argument.\n",
      "  plt.legend()\n"
     ]
    },
    {
     "data": {
      "image/png": "[encoded data removed]",
      "text/plain": [
       "<Figure size 640x480 with 1 Axes>"
      ]
     },
     "metadata": {},
     "output_type": "display_data"
    }
   ],
   "source": [
    "plot_output(circ_root,n,title=\"Root Function\")"
   ]
  },
  {
   "cell_type": "code",
   "execution_count": 15,
   "metadata": {},
   "outputs": [
    {
     "name": "stdout",
     "output_type": "stream",
     "text": [
      "preparing mps using sequential unitaries (num_seq_layers=16)...\n"
     ]
    },
    {
     "name": "stderr",
     "output_type": "stream",
     "text": [
      "100%|██████████| 16/16 [00:01<00:00, 11.27it/s]\n"
     ]
    },
    {
     "name": "stdout",
     "output_type": "stream",
     "text": [
      "overlap from static seq. preparation = 0.9999996062350801 (from circ 0.9999995992518216),\n",
      "n_gates=1167, n_2qg=385\n",
      "\n"
     ]
    }
   ],
   "source": [
    "f = lambda x, mu=0, sigma=0.3: (1 / (sigma * (2 * 3.1416)**0.5)) * np.exp(-0.5 * ((x - mu) / sigma)**2)\n",
    "\n",
    "n = 12\n",
    "\n",
    "state_vector = np.array([f(x) for x in np.linspace(-1,1,2**n)], dtype=complex)\n",
    "\n",
    "target_mps = qtn.MatrixProductState.from_dense(state_vector,dims=[2]*n, )\n",
    "\n",
    "target_mps_prep = MPSPreparation(target_mps,shape='lrp')   \n",
    "\n",
    "overlap_gaus, circ_gaus = target_mps_prep.sequential_unitary_circuit(num_seq_layers=16) #,do_compression=True, max_bond_dim=3)"
   ]
  },
  {
   "cell_type": "code",
   "execution_count": 36,
   "metadata": {},
   "outputs": [
    {
     "name": "stderr",
     "output_type": "stream",
     "text": [
      "C:\\Users\\0josh\\AppData\\Local\\Temp\\ipykernel_22768\\338441124.py:23: UserWarning: No artists with labels found to put in legend.  Note that artists whose label start with an underscore are ignored when legend() is called with no argument.\n",
      "  plt.legend()\n"
     ]
    },
    {
     "data": {
      "image/png": "[encoded data removed]",
      "text/plain": [
       "<Figure size 640x480 with 1 Axes>"
      ]
     },
     "metadata": {},
     "output_type": "display_data"
    }
   ],
   "source": [
    "plot_output(circ_gaus,n,title=\"Gaussian\")"
   ]
  },
  {
   "cell_type": "markdown",
   "metadata": {},
   "source": [
    "Misc: Different Numbers of Layers"
   ]
  },
  {
   "cell_type": "code",
   "execution_count": null,
   "metadata": {},
   "outputs": [],
   "source": [
    "n = 24"
   ]
  },
  {
   "cell_type": "code",
   "execution_count": 22,
   "metadata": {},
   "outputs": [
    {
     "name": "stdout",
     "output_type": "stream",
     "text": [
      "preparing mps using sequential unitaries (num_seq_layers=2)...\n"
     ]
    },
    {
     "name": "stderr",
     "output_type": "stream",
     "text": [
      "100%|██████████| 2/2 [00:00<00:00, 14.36it/s]\n"
     ]
    },
    {
     "name": "stdout",
     "output_type": "stream",
     "text": [
      "overlap from static seq. preparation = 0.9997879781302216,\n",
      "n_gates=209, n_2qg=63\n",
      "\n",
      "preparing mps using sequential unitaries (num_seq_layers=4)...\n"
     ]
    },
    {
     "name": "stderr",
     "output_type": "stream",
     "text": [
      "100%|██████████| 4/4 [00:00<00:00, 16.10it/s]\n"
     ]
    },
    {
     "name": "stdout",
     "output_type": "stream",
     "text": [
      "overlap from static seq. preparation = 0.9999571228561878,\n",
      "n_gates=338, n_2qg=106\n",
      "\n",
      "preparing mps using sequential unitaries (num_seq_layers=6)...\n"
     ]
    },
    {
     "name": "stderr",
     "output_type": "stream",
     "text": [
      "100%|██████████| 6/6 [00:00<00:00, 14.02it/s]\n"
     ]
    },
    {
     "name": "stdout",
     "output_type": "stream",
     "text": [
      "overlap from static seq. preparation = 0.9999900356051070,\n",
      "n_gates=476, n_2qg=152\n",
      "\n",
      "preparing mps using sequential unitaries (num_seq_layers=8)...\n"
     ]
    },
    {
     "name": "stderr",
     "output_type": "stream",
     "text": [
      "100%|██████████| 8/8 [00:00<00:00, 14.05it/s]\n"
     ]
    },
    {
     "name": "stdout",
     "output_type": "stream",
     "text": [
      "overlap from static seq. preparation = 0.9999941109414495,\n",
      "n_gates=605, n_2qg=195\n",
      "\n",
      "preparing mps using sequential unitaries (num_seq_layers=10)...\n"
     ]
    },
    {
     "name": "stderr",
     "output_type": "stream",
     "text": [
      "100%|██████████| 10/10 [00:00<00:00, 12.67it/s]\n"
     ]
    },
    {
     "name": "stdout",
     "output_type": "stream",
     "text": [
      "overlap from static seq. preparation = 0.9999986332962116,\n",
      "n_gates=731, n_2qg=237\n",
      "\n",
      "preparing mps using sequential unitaries (num_seq_layers=12)...\n"
     ]
    },
    {
     "name": "stderr",
     "output_type": "stream",
     "text": [
      "100%|██████████| 12/12 [00:00<00:00, 13.21it/s]\n"
     ]
    },
    {
     "name": "stdout",
     "output_type": "stream",
     "text": [
      "overlap from static seq. preparation = 0.9999985098521923,\n",
      "n_gates=896, n_2qg=292\n",
      "\n",
      "preparing mps using sequential unitaries (num_seq_layers=14)...\n"
     ]
    },
    {
     "name": "stderr",
     "output_type": "stream",
     "text": [
      "100%|██████████| 14/14 [00:01<00:00, 11.92it/s]\n"
     ]
    },
    {
     "name": "stdout",
     "output_type": "stream",
     "text": [
      "overlap from static seq. preparation = 0.9999992231321687,\n",
      "n_gates=1052, n_2qg=344\n",
      "\n",
      "preparing mps using sequential unitaries (num_seq_layers=16)...\n"
     ]
    },
    {
     "name": "stderr",
     "output_type": "stream",
     "text": [
      "100%|██████████| 16/16 [00:01<00:00, 12.21it/s]\n"
     ]
    },
    {
     "name": "stdout",
     "output_type": "stream",
     "text": [
      "overlap from static seq. preparation = 0.9999995138127175,\n",
      "n_gates=1217, n_2qg=399\n",
      "\n",
      "preparing mps using sequential unitaries (num_seq_layers=18)...\n"
     ]
    },
    {
     "name": "stderr",
     "output_type": "stream",
     "text": [
      "100%|██████████| 18/18 [00:01<00:00, 10.73it/s]\n"
     ]
    },
    {
     "name": "stdout",
     "output_type": "stream",
     "text": [
      "overlap from static seq. preparation = 0.9999996442850845,\n",
      "n_gates=1370, n_2qg=450\n",
      "\n",
      "preparing mps using sequential unitaries (num_seq_layers=20)...\n"
     ]
    },
    {
     "name": "stderr",
     "output_type": "stream",
     "text": [
      "100%|██████████| 20/20 [00:01<00:00, 11.26it/s]\n"
     ]
    },
    {
     "name": "stdout",
     "output_type": "stream",
     "text": [
      "overlap from static seq. preparation = 0.9999998093522242,\n",
      "n_gates=1475, n_2qg=485\n",
      "\n",
      "preparing mps using sequential unitaries (num_seq_layers=22)...\n"
     ]
    },
    {
     "name": "stderr",
     "output_type": "stream",
     "text": [
      "100%|██████████| 22/22 [00:02<00:00, 10.44it/s]\n"
     ]
    },
    {
     "name": "stdout",
     "output_type": "stream",
     "text": [
      "overlap from static seq. preparation = 0.9999998717998816,\n",
      "n_gates=1664, n_2qg=548\n",
      "\n",
      "preparing mps using sequential unitaries (num_seq_layers=24)...\n"
     ]
    },
    {
     "name": "stderr",
     "output_type": "stream",
     "text": [
      "100%|██████████| 24/24 [00:02<00:00, 10.43it/s]\n"
     ]
    },
    {
     "name": "stdout",
     "output_type": "stream",
     "text": [
      "overlap from static seq. preparation = 0.9999998438400630,\n",
      "n_gates=1805, n_2qg=595\n",
      "\n",
      "preparing mps using sequential unitaries (num_seq_layers=26)...\n"
     ]
    },
    {
     "name": "stderr",
     "output_type": "stream",
     "text": [
      "100%|██████████| 26/26 [00:02<00:00,  9.91it/s]\n"
     ]
    },
    {
     "name": "stdout",
     "output_type": "stream",
     "text": [
      "overlap from static seq. preparation = 0.9999999214488391,\n",
      "n_gates=1898, n_2qg=626\n",
      "\n",
      "preparing mps using sequential unitaries (num_seq_layers=28)...\n"
     ]
    },
    {
     "name": "stderr",
     "output_type": "stream",
     "text": [
      "100%|██████████| 28/28 [00:02<00:00, 10.02it/s]\n"
     ]
    },
    {
     "name": "stdout",
     "output_type": "stream",
     "text": [
      "overlap from static seq. preparation = 0.9999999358873347,\n",
      "n_gates=2048, n_2qg=676\n",
      "\n",
      "preparing mps using sequential unitaries (num_seq_layers=30)...\n"
     ]
    },
    {
     "name": "stderr",
     "output_type": "stream",
     "text": [
      "100%|██████████| 30/30 [00:03<00:00,  8.94it/s]\n"
     ]
    },
    {
     "name": "stdout",
     "output_type": "stream",
     "text": [
      "overlap from static seq. preparation = 0.9999999555483924,\n",
      "n_gates=2213, n_2qg=731\n",
      "\n",
      "preparing mps using sequential unitaries (num_seq_layers=32)...\n"
     ]
    },
    {
     "name": "stderr",
     "output_type": "stream",
     "text": [
      "100%|██████████| 32/32 [00:03<00:00,  9.53it/s]\n"
     ]
    },
    {
     "name": "stdout",
     "output_type": "stream",
     "text": [
      "overlap from static seq. preparation = 0.9999999624064420,\n",
      "n_gates=2309, n_2qg=763\n",
      "\n",
      "preparing mps using sequential unitaries (num_seq_layers=34)...\n"
     ]
    },
    {
     "name": "stderr",
     "output_type": "stream",
     "text": [
      "100%|██████████| 34/34 [00:04<00:00,  8.37it/s]\n"
     ]
    },
    {
     "name": "stdout",
     "output_type": "stream",
     "text": [
      "overlap from static seq. preparation = 0.9999999702816504,\n",
      "n_gates=2489, n_2qg=823\n",
      "\n",
      "preparing mps using sequential unitaries (num_seq_layers=36)...\n"
     ]
    },
    {
     "name": "stderr",
     "output_type": "stream",
     "text": [
      "100%|██████████| 36/36 [00:04<00:00,  8.72it/s]\n"
     ]
    },
    {
     "name": "stdout",
     "output_type": "stream",
     "text": [
      "overlap from static seq. preparation = 0.9999999741844633,\n",
      "n_gates=2624, n_2qg=868\n",
      "\n",
      "preparing mps using sequential unitaries (num_seq_layers=38)...\n"
     ]
    },
    {
     "name": "stderr",
     "output_type": "stream",
     "text": [
      "100%|██████████| 38/38 [00:04<00:00,  7.89it/s]\n"
     ]
    },
    {
     "name": "stdout",
     "output_type": "stream",
     "text": [
      "overlap from static seq. preparation = 0.9999999663722434,\n",
      "n_gates=2780, n_2qg=920\n",
      "\n",
      "preparing mps using sequential unitaries (num_seq_layers=40)...\n"
     ]
    },
    {
     "name": "stderr",
     "output_type": "stream",
     "text": [
      "100%|██████████| 40/40 [00:04<00:00,  8.22it/s]\n"
     ]
    },
    {
     "name": "stdout",
     "output_type": "stream",
     "text": [
      "overlap from static seq. preparation = 0.9999999814505144,\n",
      "n_gates=2852, n_2qg=944\n",
      "\n",
      "preparing mps using sequential unitaries (num_seq_layers=42)...\n"
     ]
    },
    {
     "name": "stderr",
     "output_type": "stream",
     "text": [
      "100%|██████████| 42/42 [00:05<00:00,  7.61it/s]\n"
     ]
    },
    {
     "name": "stdout",
     "output_type": "stream",
     "text": [
      "overlap from static seq. preparation = 0.9999999817679369,\n",
      "n_gates=3026, n_2qg=1002\n",
      "\n",
      "preparing mps using sequential unitaries (num_seq_layers=44)...\n"
     ]
    },
    {
     "name": "stderr",
     "output_type": "stream",
     "text": [
      "100%|██████████| 44/44 [00:05<00:00,  7.95it/s]\n"
     ]
    },
    {
     "name": "stdout",
     "output_type": "stream",
     "text": [
      "overlap from static seq. preparation = 0.9999999880070704,\n",
      "n_gates=3092, n_2qg=1024\n",
      "\n",
      "preparing mps using sequential unitaries (num_seq_layers=46)...\n"
     ]
    },
    {
     "name": "stderr",
     "output_type": "stream",
     "text": [
      "100%|██████████| 46/46 [00:06<00:00,  7.31it/s]\n"
     ]
    },
    {
     "name": "stdout",
     "output_type": "stream",
     "text": [
      "overlap from static seq. preparation = 0.9999999883269636,\n",
      "n_gates=3191, n_2qg=1057\n",
      "\n",
      "preparing mps using sequential unitaries (num_seq_layers=48)...\n"
     ]
    },
    {
     "name": "stderr",
     "output_type": "stream",
     "text": [
      "100%|██████████| 48/48 [00:06<00:00,  7.41it/s]\n"
     ]
    },
    {
     "name": "stdout",
     "output_type": "stream",
     "text": [
      "overlap from static seq. preparation = 0.9999999892108780,\n",
      "n_gates=3380, n_2qg=1120\n",
      "\n",
      "preparing mps using sequential unitaries (num_seq_layers=50)...\n"
     ]
    },
    {
     "name": "stderr",
     "output_type": "stream",
     "text": [
      "100%|██████████| 50/50 [00:07<00:00,  7.01it/s]\n"
     ]
    },
    {
     "name": "stdout",
     "output_type": "stream",
     "text": [
      "overlap from static seq. preparation = 0.9999999898805724,\n",
      "n_gates=3524, n_2qg=1168\n",
      "\n",
      "preparing mps using sequential unitaries (num_seq_layers=52)...\n"
     ]
    },
    {
     "name": "stderr",
     "output_type": "stream",
     "text": [
      "100%|██████████| 52/52 [00:07<00:00,  7.08it/s]\n"
     ]
    },
    {
     "name": "stdout",
     "output_type": "stream",
     "text": [
      "overlap from static seq. preparation = 0.9999999905347497,\n",
      "n_gates=3626, n_2qg=1202\n",
      "\n",
      "preparing mps using sequential unitaries (num_seq_layers=54)...\n"
     ]
    },
    {
     "name": "stderr",
     "output_type": "stream",
     "text": [
      "100%|██████████| 54/54 [00:08<00:00,  6.71it/s]\n"
     ]
    },
    {
     "name": "stdout",
     "output_type": "stream",
     "text": [
      "overlap from static seq. preparation = 0.9999999912099827,\n",
      "n_gates=3764, n_2qg=1248\n",
      "\n",
      "preparing mps using sequential unitaries (num_seq_layers=56)...\n"
     ]
    },
    {
     "name": "stderr",
     "output_type": "stream",
     "text": [
      "100%|██████████| 56/56 [00:08<00:00,  6.92it/s]\n"
     ]
    },
    {
     "name": "stdout",
     "output_type": "stream",
     "text": [
      "overlap from static seq. preparation = 0.9999999921572186,\n",
      "n_gates=3803, n_2qg=1261\n",
      "\n",
      "preparing mps using sequential unitaries (num_seq_layers=58)...\n"
     ]
    },
    {
     "name": "stderr",
     "output_type": "stream",
     "text": [
      "100%|██████████| 58/58 [00:08<00:00,  6.60it/s]\n"
     ]
    },
    {
     "name": "stdout",
     "output_type": "stream",
     "text": [
      "overlap from static seq. preparation = 0.9999999923072362,\n",
      "n_gates=3938, n_2qg=1306\n",
      "\n",
      "preparing mps using sequential unitaries (num_seq_layers=60)...\n"
     ]
    },
    {
     "name": "stderr",
     "output_type": "stream",
     "text": [
      "100%|██████████| 60/60 [00:09<00:00,  6.54it/s]\n"
     ]
    },
    {
     "name": "stdout",
     "output_type": "stream",
     "text": [
      "overlap from static seq. preparation = 0.9999999926217443,\n",
      "n_gates=4109, n_2qg=1363\n",
      "\n",
      "preparing mps using sequential unitaries (num_seq_layers=62)...\n"
     ]
    },
    {
     "name": "stderr",
     "output_type": "stream",
     "text": [
      "100%|██████████| 62/62 [00:09<00:00,  6.25it/s]\n"
     ]
    },
    {
     "name": "stdout",
     "output_type": "stream",
     "text": [
      "overlap from static seq. preparation = 0.9999999923108499,\n",
      "n_gates=4187, n_2qg=1389\n",
      "\n",
      "preparing mps using sequential unitaries (num_seq_layers=64)...\n"
     ]
    },
    {
     "name": "stderr",
     "output_type": "stream",
     "text": [
      "100%|██████████| 64/64 [00:09<00:00,  6.43it/s]\n"
     ]
    },
    {
     "name": "stdout",
     "output_type": "stream",
     "text": [
      "overlap from static seq. preparation = 0.9999999926445097,\n",
      "n_gates=4310, n_2qg=1430\n",
      "\n",
      "preparing mps using sequential unitaries (num_seq_layers=66)...\n"
     ]
    },
    {
     "name": "stderr",
     "output_type": "stream",
     "text": [
      "100%|██████████| 66/66 [00:10<00:00,  6.06it/s]\n"
     ]
    },
    {
     "name": "stdout",
     "output_type": "stream",
     "text": [
      "overlap from static seq. preparation = 0.9999999927799998,\n",
      "n_gates=4427, n_2qg=1469\n",
      "\n",
      "preparing mps using sequential unitaries (num_seq_layers=68)...\n"
     ]
    },
    {
     "name": "stderr",
     "output_type": "stream",
     "text": [
      "100%|██████████| 68/68 [00:11<00:00,  6.00it/s]\n"
     ]
    },
    {
     "name": "stdout",
     "output_type": "stream",
     "text": [
      "overlap from static seq. preparation = 0.9999999926783134,\n",
      "n_gates=4328, n_2qg=1436\n",
      "\n",
      "preparing mps using sequential unitaries (num_seq_layers=70)...\n"
     ]
    },
    {
     "name": "stderr",
     "output_type": "stream",
     "text": [
      "100%|██████████| 70/70 [00:12<00:00,  5.75it/s]\n"
     ]
    },
    {
     "name": "stdout",
     "output_type": "stream",
     "text": [
      "overlap from static seq. preparation = 0.9999999923722387,\n",
      "n_gates=4286, n_2qg=1422\n",
      "\n",
      "preparing mps using sequential unitaries (num_seq_layers=72)...\n"
     ]
    },
    {
     "name": "stderr",
     "output_type": "stream",
     "text": [
      "100%|██████████| 72/72 [00:12<00:00,  5.92it/s]\n"
     ]
    },
    {
     "name": "stdout",
     "output_type": "stream",
     "text": [
      "overlap from static seq. preparation = 0.9999999926147013,\n",
      "n_gates=4385, n_2qg=1455\n",
      "\n",
      "preparing mps using sequential unitaries (num_seq_layers=74)...\n"
     ]
    },
    {
     "name": "stderr",
     "output_type": "stream",
     "text": [
      "100%|██████████| 74/74 [00:13<00:00,  5.55it/s]\n"
     ]
    },
    {
     "name": "stdout",
     "output_type": "stream",
     "text": [
      "overlap from static seq. preparation = 0.9999999923749081,\n",
      "n_gates=4175, n_2qg=1385\n",
      "\n",
      "preparing mps using sequential unitaries (num_seq_layers=76)...\n"
     ]
    },
    {
     "name": "stderr",
     "output_type": "stream",
     "text": [
      "100%|██████████| 76/76 [00:13<00:00,  5.68it/s]\n"
     ]
    },
    {
     "name": "stdout",
     "output_type": "stream",
     "text": [
      "overlap from static seq. preparation = 0.9999999922128373,\n",
      "n_gates=4199, n_2qg=1393\n",
      "\n",
      "preparing mps using sequential unitaries (num_seq_layers=78)...\n"
     ]
    },
    {
     "name": "stderr",
     "output_type": "stream",
     "text": [
      "100%|██████████| 78/78 [00:14<00:00,  5.31it/s]\n"
     ]
    },
    {
     "name": "stdout",
     "output_type": "stream",
     "text": [
      "overlap from static seq. preparation = 0.9999999918626047,\n",
      "n_gates=4310, n_2qg=1430\n",
      "\n",
      "preparing mps using sequential unitaries (num_seq_layers=80)...\n"
     ]
    },
    {
     "name": "stderr",
     "output_type": "stream",
     "text": [
      "100%|██████████| 80/80 [00:14<00:00,  5.43it/s]\n"
     ]
    },
    {
     "name": "stdout",
     "output_type": "stream",
     "text": [
      "overlap from static seq. preparation = 0.9999999931893448,\n",
      "n_gates=4427, n_2qg=1469\n",
      "\n",
      "preparing mps using sequential unitaries (num_seq_layers=82)...\n"
     ]
    },
    {
     "name": "stderr",
     "output_type": "stream",
     "text": [
      "100%|██████████| 82/82 [00:15<00:00,  5.17it/s]\n"
     ]
    },
    {
     "name": "stdout",
     "output_type": "stream",
     "text": [
      "overlap from static seq. preparation = 0.9999999915732055,\n",
      "n_gates=4223, n_2qg=1401\n",
      "\n",
      "preparing mps using sequential unitaries (num_seq_layers=84)...\n"
     ]
    },
    {
     "name": "stderr",
     "output_type": "stream",
     "text": [
      "100%|██████████| 84/84 [00:15<00:00,  5.37it/s]\n"
     ]
    },
    {
     "name": "stdout",
     "output_type": "stream",
     "text": [
      "overlap from static seq. preparation = 0.9999999931948047,\n",
      "n_gates=4220, n_2qg=1400\n",
      "\n",
      "preparing mps using sequential unitaries (num_seq_layers=86)...\n"
     ]
    },
    {
     "name": "stderr",
     "output_type": "stream",
     "text": [
      "100%|██████████| 86/86 [00:18<00:00,  4.67it/s]\n"
     ]
    },
    {
     "name": "stdout",
     "output_type": "stream",
     "text": [
      "overlap from static seq. preparation = 0.9999999915977138,\n",
      "n_gates=4211, n_2qg=1397\n",
      "\n",
      "preparing mps using sequential unitaries (num_seq_layers=88)...\n"
     ]
    },
    {
     "name": "stderr",
     "output_type": "stream",
     "text": [
      "100%|██████████| 88/88 [00:17<00:00,  4.89it/s]\n"
     ]
    },
    {
     "name": "stdout",
     "output_type": "stream",
     "text": [
      "overlap from static seq. preparation = 0.9999999921145768,\n",
      "n_gates=4385, n_2qg=1455\n",
      "\n",
      "preparing mps using sequential unitaries (num_seq_layers=90)...\n"
     ]
    },
    {
     "name": "stderr",
     "output_type": "stream",
     "text": [
      "100%|██████████| 90/90 [00:18<00:00,  4.80it/s]\n"
     ]
    },
    {
     "name": "stdout",
     "output_type": "stream",
     "text": [
      "overlap from static seq. preparation = 0.9999999924965393,\n",
      "n_gates=4436, n_2qg=1472\n",
      "\n",
      "preparing mps using sequential unitaries (num_seq_layers=92)...\n"
     ]
    },
    {
     "name": "stderr",
     "output_type": "stream",
     "text": [
      "100%|██████████| 92/92 [00:18<00:00,  4.86it/s]\n"
     ]
    },
    {
     "name": "stdout",
     "output_type": "stream",
     "text": [
      "overlap from static seq. preparation = 0.9999999921230590,\n",
      "n_gates=4214, n_2qg=1398\n",
      "\n",
      "preparing mps using sequential unitaries (num_seq_layers=94)...\n"
     ]
    },
    {
     "name": "stderr",
     "output_type": "stream",
     "text": [
      "100%|██████████| 94/94 [00:20<00:00,  4.66it/s]\n"
     ]
    },
    {
     "name": "stdout",
     "output_type": "stream",
     "text": [
      "overlap from static seq. preparation = 0.9999999915386533,\n",
      "n_gates=4331, n_2qg=1437\n",
      "\n",
      "preparing mps using sequential unitaries (num_seq_layers=96)...\n"
     ]
    },
    {
     "name": "stderr",
     "output_type": "stream",
     "text": [
      "100%|██████████| 96/96 [00:20<00:00,  4.73it/s]\n"
     ]
    },
    {
     "name": "stdout",
     "output_type": "stream",
     "text": [
      "overlap from static seq. preparation = 0.9999999927927025,\n",
      "n_gates=4322, n_2qg=1434\n",
      "\n",
      "preparing mps using sequential unitaries (num_seq_layers=98)...\n"
     ]
    },
    {
     "name": "stderr",
     "output_type": "stream",
     "text": [
      "100%|██████████| 98/98 [00:21<00:00,  4.56it/s]\n"
     ]
    },
    {
     "name": "stdout",
     "output_type": "stream",
     "text": [
      "overlap from static seq. preparation = 0.9999999922195320,\n",
      "n_gates=4196, n_2qg=1392\n",
      "\n",
      "preparing mps using sequential unitaries (num_seq_layers=100)...\n"
     ]
    },
    {
     "name": "stderr",
     "output_type": "stream",
     "text": [
      "100%|██████████| 100/100 [00:22<00:00,  4.52it/s]\n"
     ]
    },
    {
     "name": "stdout",
     "output_type": "stream",
     "text": [
      "overlap from static seq. preparation = 0.9999999927721555,\n",
      "n_gates=4271, n_2qg=1417\n",
      "\n"
     ]
    }
   ],
   "source": [
    "circs = []\n",
    "overlaps = []\n",
    "depths = []\n",
    "for layer in range(2,101,2):\n",
    "    overlap, circ = target_mps_prep.sequential_unitary_circuit(num_seq_layers=layer) #,do_compression=True, max_bond_dim=3)\n",
    "    overlaps.append(overlap)\n",
    "    circs.append(circ)\n",
    "    depths.append(circ.depth())"
   ]
  }
 ],
 "metadata": {
  "kernelspec": {
   "display_name": "qsp_main6",
   "language": "python",
   "name": "python3"
  },
  "language_info": {
   "codemirror_mode": {
    "name": "ipython",
    "version": 3
   },
   "file_extension": ".py",
   "mimetype": "text/x-python",
   "name": "python",
   "nbconvert_exporter": "python",
   "pygments_lexer": "ipython3",
   "version": "3.10.14"
  }
 },
 "nbformat": 4,
 "nbformat_minor": 2
}
